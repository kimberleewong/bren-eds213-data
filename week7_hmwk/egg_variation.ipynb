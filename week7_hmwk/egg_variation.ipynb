{
 "cells": [
  {
   "cell_type": "markdown",
   "id": "f8615d33",
   "metadata": {},
   "source": [
    "### Connect to database"
   ]
  },
  {
   "cell_type": "code",
   "execution_count": 20,
   "id": "4c0d2b55",
   "metadata": {},
   "outputs": [
    {
     "data": {
      "text/plain": [
       "'/Users/kimmywong/Downloads/EDS_213/bren-eds213-data/database'"
      ]
     },
     "execution_count": 20,
     "metadata": {},
     "output_type": "execute_result"
    }
   ],
   "source": [
    "%pwd"
   ]
  },
  {
   "cell_type": "code",
   "execution_count": 27,
   "id": "25a7ac40",
   "metadata": {},
   "outputs": [],
   "source": [
    "import duckdb\n",
    "import pandas as pd\n",
    "conn = duckdb.connect(\"database.db\")"
   ]
  },
  {
   "cell_type": "code",
   "execution_count": 22,
   "id": "8f0c1e36",
   "metadata": {},
   "outputs": [],
   "source": [
    "cur = conn.cursor()"
   ]
  },
  {
   "cell_type": "markdown",
   "id": "08a2e727",
   "metadata": {},
   "source": [
    "### Step 1: Create a query that shows scientific names and species code for species with egg data."
   ]
  },
  {
   "cell_type": "code",
   "execution_count": 23,
   "id": "3968a3d1",
   "metadata": {},
   "outputs": [
    {
     "data": {
      "text/plain": [
       "[('rutu', 'Arenaria interpres'),\n",
       " ('dunl', 'Calidris alpina'),\n",
       " ('wrsa', 'Calidris fuscicollis'),\n",
       " ('sepl', 'Charadrius semipalmatus'),\n",
       " ('reph', 'Phalaropus fulicarius'),\n",
       " ('amgp', 'Pluvialis dominica'),\n",
       " ('bbpl', 'Pluvialis squatarola')]"
      ]
     },
     "execution_count": 23,
     "metadata": {},
     "output_type": "execute_result"
    }
   ],
   "source": [
    "cur.execute(\"\"\"SELECT DISTINCT Code, Scientific_name FROM Species \n",
    "    INNER JOIN Bird_nests\n",
    "    ON Species.Code = Bird_nests.Species\n",
    "    INNER JOIN Bird_eggs\n",
    "    ON Bird_eggs.Nest_ID = Bird_nests.Nest_ID\n",
    "    ORDER BY Scientific_name\"\"\")\n",
    "cur.fetchall()"
   ]
  },
  {
   "cell_type": "markdown",
   "id": "f8a414f9",
   "metadata": {},
   "source": [
    "### Step 2: After you’ve connected to the database and created a cursor c, iterate over the species like so:\n",
    "species_query = \"\"\"SELECT Code, Scientific_name FROM...\"\"\"\n",
    "for row in cur.execute(species_query).fetchall():  # DuckDB lame-o workaround\n",
    "    species_code = row[0]\n",
    "    scientific_name = row[1]\n",
    "    # query egg data for that species (step 3)\n",
    "    # compute statistics and print results (step 4)\n"
   ]
  },
  {
   "cell_type": "code",
   "execution_count": 25,
   "id": "613b26b0",
   "metadata": {},
   "outputs": [],
   "source": [
    "species_query = \"\"\"SELECT DISTINCT Code, Scientific_name FROM Species \n",
    "    INNER JOIN Bird_nests\n",
    "    ON Species.Code = Bird_nests.Species\n",
    "    INNER JOIN Bird_eggs\n",
    "    ON Bird_eggs.Nest_ID = Bird_nests.Nest_ID\n",
    "    ORDER BY Scientific_name\"\"\"\n",
    "\n",
    "for row in cur.execute(species_query).fetchall():  # DuckDB lame-o workaround\n",
    "    species_code = row[0]\n",
    "    scientific_name = row[1]"
   ]
  },
  {
   "cell_type": "markdown",
   "id": "b5e286d2",
   "metadata": {},
   "source": [
    "### Step 3: You will need to construct a query that gathers egg data for a given species, one species at a time; the species code will be a parameter to that query.\n",
    "\n"
   ]
  },
  {
   "cell_type": "code",
   "execution_count": 28,
   "id": "78233785",
   "metadata": {},
   "outputs": [
    {
     "name": "stdout",
     "output_type": "stream",
     "text": [
      "          Volume Species\n",
      "0   18129.257812    rutu\n",
      "1   27114.382812    rutu\n",
      "2   30465.349609    rutu\n",
      "3   38728.300781    rutu\n",
      "4   31784.414062    rutu\n",
      "5   35203.085938    rutu\n",
      "6   34760.351562    rutu\n",
      "7   35976.867188    rutu\n",
      "8   35303.023438    rutu\n",
      "9   37496.710938    rutu\n",
      "10  36470.546875    rutu\n",
      "11  36400.875000    rutu\n",
      "12  18129.257812    rutu\n",
      "13  27114.382812    rutu\n",
      "14  30465.349609    rutu\n",
      "15  38728.300781    rutu\n",
      "16  34270.027344    rutu\n",
      "17  32679.935547    rutu\n",
      "18  37211.968750    rutu\n",
      "19  42001.929688    rutu\n",
      "20  44033.710938    rutu\n",
      "21  45660.441406    rutu\n",
      "22  46688.285156    rutu\n",
      "          Volume Species\n",
      "0   22976.552734    dunl\n",
      "1   23460.568359    dunl\n",
      "2   23576.367188    dunl\n",
      "3   23206.162109    dunl\n",
      "4   23200.333984    dunl\n",
      "5   23714.867188    dunl\n",
      "6   19850.609375    dunl\n",
      "7   20749.957031    dunl\n",
      "8   22288.044922    dunl\n",
      "9   22131.791016    dunl\n",
      "10  22265.214844    dunl\n",
      "          Volume Species\n",
      "0   20778.173828    wrsa\n",
      "1   20857.626953    wrsa\n",
      "2   20141.640625    wrsa\n",
      "3   39703.902344    wrsa\n",
      "4   17922.460938    wrsa\n",
      "5   18447.982422    wrsa\n",
      "6   19956.257812    wrsa\n",
      "7   20463.800781    wrsa\n",
      "8   20514.232422    wrsa\n",
      "9   21604.015625    wrsa\n",
      "10  18913.347656    wrsa\n",
      "11  19010.507812    wrsa\n",
      "12  19590.443359    wrsa\n",
      "13  19417.710938    wrsa\n",
      "14  18323.167969    wrsa\n",
      "15  19012.111328    wrsa\n",
      "16  18704.279297    wrsa\n",
      "17  18941.507812    wrsa\n",
      "18  17671.980469    wrsa\n",
      "19  17213.830078    wrsa\n",
      "20  17632.089844    wrsa\n",
      "21  19966.564453    wrsa\n",
      "22  18384.048828    wrsa\n",
      "23  17794.908203    wrsa\n",
      "24  19120.263672    wrsa\n",
      "25  18676.916016    wrsa\n",
      "26  17915.720703    wrsa\n",
      "27  19388.568359    wrsa\n",
      "28  16111.461914    wrsa\n",
      "29  16905.902344    wrsa\n",
      "30  17216.199219    wrsa\n",
      "31  17379.085938    wrsa\n",
      "32  18475.794922    wrsa\n",
      "33  19174.419922    wrsa\n",
      "34  18670.677734    wrsa\n",
      "35  19921.439453    wrsa\n",
      "36  17276.283203    wrsa\n",
      "37  18612.582031    wrsa\n",
      "38  19236.544922    wrsa\n",
      "39  19182.189453    wrsa\n",
      "40  18419.755859    wrsa\n",
      "41  18529.232422    wrsa\n",
      "42  19693.439453    wrsa\n",
      "43  19502.585938    wrsa\n",
      "44  18614.062500    wrsa\n",
      "45  19008.000000    wrsa\n",
      "46  19584.000000    wrsa\n",
      "           Volume Species\n",
      "0    16836.818359    sepl\n",
      "1    17232.726562    sepl\n",
      "2    19228.296875    sepl\n",
      "3    18786.355469    sepl\n",
      "4    18581.949219    sepl\n",
      "..            ...     ...\n",
      "258  17846.888672    sepl\n",
      "259  19204.785156    sepl\n",
      "260  18395.349609    sepl\n",
      "261  15506.790039    sepl\n",
      "262  17876.416016    sepl\n",
      "\n",
      "[263 rows x 2 columns]\n",
      "          Volume Species\n",
      "0   15369.409180    reph\n",
      "1   16180.729492    reph\n",
      "2   16287.629883    reph\n",
      "3   16424.425781    reph\n",
      "4   15313.947266    reph\n",
      "5   15803.648438    reph\n",
      "6   16130.244141    reph\n",
      "7   16790.378906    reph\n",
      "8   14816.875000    reph\n",
      "9   15614.905273    reph\n",
      "10  15803.517578    reph\n",
      "11  15423.846680    reph\n",
      "12  16291.520508    reph\n",
      "13  17239.847656    reph\n",
      "14  17073.154297    reph\n",
      "15  17472.740234    reph\n",
      "         Volume Species\n",
      "0  42623.460938    amgp\n",
      "1  46279.167969    amgp\n",
      "2  53870.394531    amgp\n",
      "3  49803.390625    amgp\n",
      "4  50524.957031    amgp\n",
      "5  52089.097656    amgp\n",
      "6  55937.113281    amgp\n",
      "7  53017.218750    amgp\n",
      "8  58516.078125    amgp\n",
      "9  82498.984375    amgp\n",
      "          Volume Species\n",
      "0   70019.492188    bbpl\n",
      "1   69170.429688    bbpl\n",
      "2   69156.460938    bbpl\n",
      "3   67871.515625    bbpl\n",
      "4   68314.945312    bbpl\n",
      "5   72593.148438    bbpl\n",
      "6   69591.406250    bbpl\n",
      "7   68801.257812    bbpl\n",
      "8   61784.035156    bbpl\n",
      "9   60826.289062    bbpl\n",
      "10  63847.167969    bbpl\n",
      "11  63269.140625    bbpl\n",
      "12  59412.500000    bbpl\n",
      "13  64800.000000    bbpl\n",
      "14  66744.000000    bbpl\n",
      "15  71872.500000    bbpl\n",
      "16  63984.792969    bbpl\n",
      "17  62735.984375    bbpl\n",
      "18  63149.914062    bbpl\n",
      "19  74258.664062    bbpl\n",
      "20  59318.109375    bbpl\n",
      "21  60960.714844    bbpl\n",
      "22  67013.531250    bbpl\n",
      "23  66541.968750    bbpl\n",
      "24  57195.398438    bbpl\n",
      "25  61642.058594    bbpl\n",
      "26  62993.000000    bbpl\n",
      "27  63799.195312    bbpl\n",
      "28  63227.347656    bbpl\n",
      "29  60893.695312    bbpl\n",
      "30  63143.644531    bbpl\n",
      "31  65353.285156    bbpl\n",
      "32  56359.355469    bbpl\n",
      "33  57714.792969    bbpl\n",
      "34  66045.546875    bbpl\n",
      "35  71563.335938    bbpl\n"
     ]
    },
    {
     "name": "stderr",
     "output_type": "stream",
     "text": [
      "/var/folders/gr/jlw8fkqn023fr8q1p0l6lpq80000gn/T/ipykernel_19461/716735640.py:12: UserWarning: pandas only supports SQLAlchemy connectable (engine/connection) or database string URI or sqlite3 DBAPI2 connection. Other DBAPI2 objects are not tested. Please consider using SQLAlchemy.\n",
      "  df = pd.read_sql(egg_query, conn, params=[species_code])\n",
      "/var/folders/gr/jlw8fkqn023fr8q1p0l6lpq80000gn/T/ipykernel_19461/716735640.py:12: UserWarning: pandas only supports SQLAlchemy connectable (engine/connection) or database string URI or sqlite3 DBAPI2 connection. Other DBAPI2 objects are not tested. Please consider using SQLAlchemy.\n",
      "  df = pd.read_sql(egg_query, conn, params=[species_code])\n",
      "/var/folders/gr/jlw8fkqn023fr8q1p0l6lpq80000gn/T/ipykernel_19461/716735640.py:12: UserWarning: pandas only supports SQLAlchemy connectable (engine/connection) or database string URI or sqlite3 DBAPI2 connection. Other DBAPI2 objects are not tested. Please consider using SQLAlchemy.\n",
      "  df = pd.read_sql(egg_query, conn, params=[species_code])\n",
      "/var/folders/gr/jlw8fkqn023fr8q1p0l6lpq80000gn/T/ipykernel_19461/716735640.py:12: UserWarning: pandas only supports SQLAlchemy connectable (engine/connection) or database string URI or sqlite3 DBAPI2 connection. Other DBAPI2 objects are not tested. Please consider using SQLAlchemy.\n",
      "  df = pd.read_sql(egg_query, conn, params=[species_code])\n",
      "/var/folders/gr/jlw8fkqn023fr8q1p0l6lpq80000gn/T/ipykernel_19461/716735640.py:12: UserWarning: pandas only supports SQLAlchemy connectable (engine/connection) or database string URI or sqlite3 DBAPI2 connection. Other DBAPI2 objects are not tested. Please consider using SQLAlchemy.\n",
      "  df = pd.read_sql(egg_query, conn, params=[species_code])\n",
      "/var/folders/gr/jlw8fkqn023fr8q1p0l6lpq80000gn/T/ipykernel_19461/716735640.py:12: UserWarning: pandas only supports SQLAlchemy connectable (engine/connection) or database string URI or sqlite3 DBAPI2 connection. Other DBAPI2 objects are not tested. Please consider using SQLAlchemy.\n",
      "  df = pd.read_sql(egg_query, conn, params=[species_code])\n",
      "/var/folders/gr/jlw8fkqn023fr8q1p0l6lpq80000gn/T/ipykernel_19461/716735640.py:12: UserWarning: pandas only supports SQLAlchemy connectable (engine/connection) or database string URI or sqlite3 DBAPI2 connection. Other DBAPI2 objects are not tested. Please consider using SQLAlchemy.\n",
      "  df = pd.read_sql(egg_query, conn, params=[species_code])\n"
     ]
    }
   ],
   "source": [
    "# Define species query from above\n",
    "egg_query = \"\"\"SELECT Width*Width*Length AS Volume, Species FROM Bird_eggs\n",
    "    JOIN Bird_nests\n",
    "    ON Bird_eggs.Nest_ID = Bird_nests.Nest_ID\n",
    "    WHERE Bird_nests.Species = ?\"\"\"\n",
    "\n",
    "# Iterate over species\n",
    "for row in cur.execute(species_query).fetchall():\n",
    "    species_code = row[0]\n",
    "    scientific_name = row[1]\n",
    "    egg_query = egg_query\n",
    "    df = pd.read_sql(egg_query, conn, params=[species_code])\n",
    "    print(df)"
   ]
  },
  {
   "cell_type": "markdown",
   "id": "19122321",
   "metadata": {},
   "source": [
    "### Step 4: Finally, and still within your loop, you’ll want to compute statistics and print out the results:\n"
   ]
  },
  {
   "cell_type": "code",
   "execution_count": 30,
   "id": "d3af959c",
   "metadata": {},
   "outputs": [
    {
     "name": "stdout",
     "output_type": "stream",
     "text": [
      "Arenaria interpres 21.12%\n",
      "Calidris alpina 5.46%\n",
      "Calidris fuscicollis 16.77%\n",
      "Charadrius semipalmatus 8.99%\n",
      "Phalaropus fulicarius 4.65%\n",
      "Pluvialis dominica 19.88%\n",
      "Pluvialis squatarola 6.94%\n"
     ]
    },
    {
     "name": "stderr",
     "output_type": "stream",
     "text": [
      "/var/folders/gr/jlw8fkqn023fr8q1p0l6lpq80000gn/T/ipykernel_19461/425590428.py:5: UserWarning: pandas only supports SQLAlchemy connectable (engine/connection) or database string URI or sqlite3 DBAPI2 connection. Other DBAPI2 objects are not tested. Please consider using SQLAlchemy.\n",
      "  df = pd.read_sql(egg_query, conn, params=[species_code])\n"
     ]
    }
   ],
   "source": [
    "for row in cur.execute(species_query).fetchall():\n",
    "    species_code = row[0]\n",
    "    scientific_name = row[1]\n",
    "    egg_query = egg_query\n",
    "    df = pd.read_sql(egg_query, conn, params=[species_code])\n",
    "    cv = round(df.Volume.std()/df.Volume.mean()*100, 2)\n",
    "    print(f\"{scientific_name} {cv}%\")"
   ]
  },
  {
   "cell_type": "code",
   "execution_count": 32,
   "id": "70ae97a6",
   "metadata": {},
   "outputs": [],
   "source": [
    "# Close the connection\n",
    "conn.close()"
   ]
  },
  {
   "cell_type": "code",
   "execution_count": null,
   "id": "c5962e15",
   "metadata": {},
   "outputs": [],
   "source": []
  }
 ],
 "metadata": {
  "kernelspec": {
   "display_name": "eds220-env",
   "language": "python",
   "name": "python3"
  },
  "language_info": {
   "codemirror_mode": {
    "name": "ipython",
    "version": 3
   },
   "file_extension": ".py",
   "mimetype": "text/x-python",
   "name": "python",
   "nbconvert_exporter": "python",
   "pygments_lexer": "ipython3",
   "version": "3.11.4"
  }
 },
 "nbformat": 4,
 "nbformat_minor": 5
}
